{
 "cells": [
  {
   "cell_type": "code",
   "execution_count": 1,
   "metadata": {},
   "outputs": [],
   "source": [
    "import pandas as pd\n",
    "import numpy as np\n",
    "from sklearn import preprocessing\n",
    "import matplotlib.pyplot as plt \n",
    "plt.rc(\"font\", size=14)\n",
    "from sklearn.linear_model import LogisticRegression\n",
    "from sklearn.model_selection import train_test_split\n",
    "import seaborn as sns\n",
    "sns.set(style=\"white\")\n",
    "sns.set(style=\"whitegrid\", color_codes=True)"
   ]
  },
  {
   "cell_type": "markdown",
   "metadata": {},
   "source": [
    "## Data\n",
    "\n",
    "The data is related with credit card dataset for simple econometric analysis. This dataset was originally published alongside the 5th edition of William Greene's book Econometric Analysis. The classification goal is to predict if the application for credit card will accept (1/0) a credit card (variable y)."
   ]
  },
  {
   "cell_type": "markdown",
   "metadata": {},
   "source": [
    "This dataset provides the applicant information. It includes 101,503 records and 12 fields."
   ]
  },
  {
   "cell_type": "code",
   "execution_count": 2,
   "metadata": {},
   "outputs": [
    {
     "name": "stdout",
     "output_type": "stream",
     "text": [
      "(101503, 12)\n",
      "['ID', 'Delinquency', 'RUOUL', 'Age', 'NOT30-59DPDNW', 'DebtRatio', 'MonthlyIncome', 'LoansNumber', 'NOT90DL', 'NRELOL', 'NOT60-89DPDNW', 'DependentsNumber']\n"
     ]
    }
   ],
   "source": [
    "data = pd.read_csv('Credit_Scoring.csv', header=0)\n",
    "print(data.shape)\n",
    "print(list(data.columns))"
   ]
  },
  {
   "cell_type": "code",
   "execution_count": 3,
   "metadata": {},
   "outputs": [
    {
     "data": {
      "text/html": [
       "<div>\n",
       "<style scoped>\n",
       "    .dataframe tbody tr th:only-of-type {\n",
       "        vertical-align: middle;\n",
       "    }\n",
       "\n",
       "    .dataframe tbody tr th {\n",
       "        vertical-align: top;\n",
       "    }\n",
       "\n",
       "    .dataframe thead th {\n",
       "        text-align: right;\n",
       "    }\n",
       "</style>\n",
       "<table border=\"1\" class=\"dataframe\">\n",
       "  <thead>\n",
       "    <tr style=\"text-align: right;\">\n",
       "      <th></th>\n",
       "      <th>ID</th>\n",
       "      <th>Delinquency</th>\n",
       "      <th>RUOUL</th>\n",
       "      <th>Age</th>\n",
       "      <th>NOT30-59DPDNW</th>\n",
       "      <th>DebtRatio</th>\n",
       "      <th>MonthlyIncome</th>\n",
       "      <th>LoansNumber</th>\n",
       "      <th>NOT90DL</th>\n",
       "      <th>NRELOL</th>\n",
       "      <th>NOT60-89DPDNW</th>\n",
       "      <th>DependentsNumber</th>\n",
       "    </tr>\n",
       "  </thead>\n",
       "  <tbody>\n",
       "    <tr>\n",
       "      <th>0</th>\n",
       "      <td>1</td>\n",
       "      <td>1</td>\n",
       "      <td>0.766127</td>\n",
       "      <td>45</td>\n",
       "      <td>2</td>\n",
       "      <td>0.802982</td>\n",
       "      <td>9120.0</td>\n",
       "      <td>13</td>\n",
       "      <td>0</td>\n",
       "      <td>6</td>\n",
       "      <td>0</td>\n",
       "      <td>2.0</td>\n",
       "    </tr>\n",
       "    <tr>\n",
       "      <th>1</th>\n",
       "      <td>2</td>\n",
       "      <td>0</td>\n",
       "      <td>0.957151</td>\n",
       "      <td>40</td>\n",
       "      <td>0</td>\n",
       "      <td>0.121876</td>\n",
       "      <td>2600.0</td>\n",
       "      <td>4</td>\n",
       "      <td>0</td>\n",
       "      <td>0</td>\n",
       "      <td>0</td>\n",
       "      <td>1.0</td>\n",
       "    </tr>\n",
       "    <tr>\n",
       "      <th>2</th>\n",
       "      <td>3</td>\n",
       "      <td>0</td>\n",
       "      <td>0.658180</td>\n",
       "      <td>38</td>\n",
       "      <td>1</td>\n",
       "      <td>0.085113</td>\n",
       "      <td>3042.0</td>\n",
       "      <td>2</td>\n",
       "      <td>1</td>\n",
       "      <td>0</td>\n",
       "      <td>0</td>\n",
       "      <td>0.0</td>\n",
       "    </tr>\n",
       "    <tr>\n",
       "      <th>3</th>\n",
       "      <td>4</td>\n",
       "      <td>0</td>\n",
       "      <td>0.233810</td>\n",
       "      <td>30</td>\n",
       "      <td>0</td>\n",
       "      <td>0.036050</td>\n",
       "      <td>3300.0</td>\n",
       "      <td>5</td>\n",
       "      <td>0</td>\n",
       "      <td>0</td>\n",
       "      <td>0</td>\n",
       "      <td>0.0</td>\n",
       "    </tr>\n",
       "    <tr>\n",
       "      <th>4</th>\n",
       "      <td>5</td>\n",
       "      <td>0</td>\n",
       "      <td>0.907239</td>\n",
       "      <td>49</td>\n",
       "      <td>1</td>\n",
       "      <td>0.024926</td>\n",
       "      <td>63588.0</td>\n",
       "      <td>7</td>\n",
       "      <td>0</td>\n",
       "      <td>1</td>\n",
       "      <td>0</td>\n",
       "      <td>0.0</td>\n",
       "    </tr>\n",
       "  </tbody>\n",
       "</table>\n",
       "</div>"
      ],
      "text/plain": [
       "   ID  Delinquency     RUOUL  Age  NOT30-59DPDNW  DebtRatio  MonthlyIncome  \\\n",
       "0   1            1  0.766127   45              2   0.802982         9120.0   \n",
       "1   2            0  0.957151   40              0   0.121876         2600.0   \n",
       "2   3            0  0.658180   38              1   0.085113         3042.0   \n",
       "3   4            0  0.233810   30              0   0.036050         3300.0   \n",
       "4   5            0  0.907239   49              1   0.024926        63588.0   \n",
       "\n",
       "   LoansNumber  NOT90DL  NRELOL  NOT60-89DPDNW  DependentsNumber  \n",
       "0           13        0       6              0               2.0  \n",
       "1            4        0       0              0               1.0  \n",
       "2            2        1       0              0               0.0  \n",
       "3            5        0       0              0               0.0  \n",
       "4            7        0       1              0               0.0  "
      ]
     },
     "execution_count": 3,
     "metadata": {},
     "output_type": "execute_result"
    }
   ],
   "source": [
    "data.head()"
   ]
  },
  {
   "cell_type": "code",
   "execution_count": 4,
   "metadata": {},
   "outputs": [
    {
     "name": "stdout",
     "output_type": "stream",
     "text": [
      "<class 'pandas.core.frame.DataFrame'>\n",
      "RangeIndex: 101503 entries, 0 to 101502\n",
      "Data columns (total 12 columns):\n",
      "ID                  101503 non-null int64\n",
      "Delinquency         101503 non-null int64\n",
      "RUOUL               101503 non-null float64\n",
      "Age                 101503 non-null int64\n",
      "NOT30-59DPDNW       101503 non-null int64\n",
      "DebtRatio           101503 non-null float64\n",
      "MonthlyIncome       81403 non-null float64\n",
      "LoansNumber         101503 non-null int64\n",
      "NOT90DL             101503 non-null int64\n",
      "NRELOL              101503 non-null int64\n",
      "NOT60-89DPDNW       101503 non-null int64\n",
      "DependentsNumber    98846 non-null float64\n",
      "dtypes: float64(4), int64(8)\n",
      "memory usage: 9.3 MB\n"
     ]
    }
   ],
   "source": [
    "data.info()"
   ]
  },
  {
   "cell_type": "code",
   "execution_count": 5,
   "metadata": {},
   "outputs": [],
   "source": [
    "data = data.fillna(data.mean())"
   ]
  },
  {
   "cell_type": "code",
   "execution_count": 6,
   "metadata": {},
   "outputs": [
    {
     "name": "stdout",
     "output_type": "stream",
     "text": [
      "<class 'pandas.core.frame.DataFrame'>\n",
      "RangeIndex: 101503 entries, 0 to 101502\n",
      "Data columns (total 12 columns):\n",
      "ID                  101503 non-null int64\n",
      "Delinquency         101503 non-null int64\n",
      "RUOUL               101503 non-null float64\n",
      "Age                 101503 non-null int64\n",
      "NOT30-59DPDNW       101503 non-null int64\n",
      "DebtRatio           101503 non-null float64\n",
      "MonthlyIncome       101503 non-null float64\n",
      "LoansNumber         101503 non-null int64\n",
      "NOT90DL             101503 non-null int64\n",
      "NRELOL              101503 non-null int64\n",
      "NOT60-89DPDNW       101503 non-null int64\n",
      "DependentsNumber    101503 non-null float64\n",
      "dtypes: float64(4), int64(8)\n",
      "memory usage: 9.3 MB\n"
     ]
    }
   ],
   "source": [
    "data.info()"
   ]
  },
  {
   "cell_type": "markdown",
   "metadata": {},
   "source": [
    "#### Input variables"
   ]
  },
  {
   "cell_type": "markdown",
   "metadata": {},
   "source": [
    "1 - ID: id number of borrower (numeric)\n",
    "\n",
    "2 - RUOUL: Total balance on credit cards and personal lines of credit except real estate and no installment debt (numeric)\n",
    "\n",
    "3 - Age: Age of borrower in years (numeric)\n",
    "\n",
    "4 - NOT30-59DPDNW: Number of times borrower has been 30-59 days past due but no worse in the last 2 years (numeric)\n",
    "\n",
    "5 - DebtRatio: Monthly debt payments, alimony,living costs divided by monthy gross income (numeric)\n",
    "\n",
    "6 - MonthlyIncome: Monthly Income (numeric)\n",
    "\n",
    "7 - LoansNumber: Number of Open loans (installment like car loan or mortgage) and Lines of credit (e.g. credit cards) (numeric)\n",
    "\n",
    "8 - NOT90DL: Number of times borrower has been 90 days or more past due (numeric)\n",
    "\n",
    "9 - NRELOL: Number of mortgage and real estate loans including home equity lines of credit (numeric)\n",
    "\n",
    "10 - NOT60-89DPDNW: Number of times borrower has been 60-89 days past due but no worse in the last 2 years (numeric)\n",
    "\n",
    "11 - DependentsNumber: Number of dependents in family excluding themselves (spouse, children etc.) (numeric)\n"
   ]
  },
  {
   "cell_type": "markdown",
   "metadata": {},
   "source": [
    "#### Predict variable (desired target):\n",
    "\n",
    "SeriousDelinquency: 1 if Person experienced 90 days past due delinquency or worse, 0 if rent"
   ]
  },
  {
   "cell_type": "markdown",
   "metadata": {},
   "source": [
    "### Data exploration"
   ]
  },
  {
   "cell_type": "code",
   "execution_count": 7,
   "metadata": {},
   "outputs": [
    {
     "data": {
      "text/plain": [
       "0    94732\n",
       "1     6771\n",
       "Name: Delinquency, dtype: int64"
      ]
     },
     "execution_count": 7,
     "metadata": {},
     "output_type": "execute_result"
    }
   ],
   "source": [
    "data['Delinquency'].value_counts()"
   ]
  },
  {
   "cell_type": "code",
   "execution_count": 8,
   "metadata": {},
   "outputs": [
    {
     "data": {
      "image/png": "[encoded data removed]",
      "text/plain": [
       "<Figure size 432x288 with 1 Axes>"
      ]
     },
     "metadata": {},
     "output_type": "display_data"
    },
    {
     "data": {
      "text/plain": [
       "<Figure size 432x288 with 0 Axes>"
      ]
     },
     "metadata": {},
     "output_type": "display_data"
    }
   ],
   "source": [
    "sns.countplot(x='Delinquency',data=data, palette='hls')\n",
    "plt.show()\n",
    "plt.savefig('count_plot')"
   ]
  },
  {
   "cell_type": "markdown",
   "metadata": {},
   "source": [
    "There are 94732 no's and 671 yes's in the Delinquency variables."
   ]
  },
  {
   "cell_type": "markdown",
   "metadata": {},
   "source": [
    "# Visualizations"
   ]
  },
  {
   "cell_type": "code",
   "execution_count": 9,
   "metadata": {},
   "outputs": [
    {
     "data": {
      "image/png": "[encoded data removed]",
      "text/plain": [
       "<Figure size 1440x1080 with 12 Axes>"
      ]
     },
     "metadata": {},
     "output_type": "display_data"
    }
   ],
   "source": [
    "num_bins = 10\n",
    "data.hist(bins=num_bins, figsize=(20,15))\n",
    "plt.savefig(\"data_histogram_plots\")\n",
    "plt.show()"
   ]
  },
  {
   "cell_type": "code",
   "execution_count": 10,
   "metadata": {},
   "outputs": [
    {
     "data": {
      "text/plain": [
       "array(['ID', 'Delinquency', 'RUOUL', 'Age', 'NOT30-59DPDNW', 'DebtRatio',\n",
       "       'MonthlyIncome', 'LoansNumber', 'NOT90DL', 'NRELOL',\n",
       "       'NOT60-89DPDNW', 'DependentsNumber'], dtype=object)"
      ]
     },
     "execution_count": 10,
     "metadata": {},
     "output_type": "execute_result"
    }
   ],
   "source": [
    "data_final=data\n",
    "data_final.columns.values"
   ]
  },
  {
   "cell_type": "code",
   "execution_count": 11,
   "metadata": {},
   "outputs": [],
   "source": [
    "data_final.drop(['ID'], axis=1, inplace=True)"
   ]
  },
  {
   "cell_type": "code",
   "execution_count": 12,
   "metadata": {},
   "outputs": [],
   "source": [
    "X = data_final.loc[:, data_final.columns != 'Delinquency']\n",
    "y = data_final.loc[:, data_final.columns == 'Delinquency']\n",
    "y=y.astype('int')"
   ]
  },
  {
   "cell_type": "code",
   "execution_count": 13,
   "metadata": {},
   "outputs": [
    {
     "name": "stderr",
     "output_type": "stream",
     "text": [
      "Using TensorFlow backend.\n",
      "C:\\ProgramData\\Anaconda3\\lib\\site-packages\\tensorflow\\python\\framework\\dtypes.py:526: FutureWarning: Passing (type, 1) or '1type' as a synonym of type is deprecated; in a future version of numpy, it will be understood as (type, (1,)) / '(1,)type'.\n",
      "  _np_qint8 = np.dtype([(\"qint8\", np.int8, 1)])\n",
      "C:\\ProgramData\\Anaconda3\\lib\\site-packages\\tensorflow\\python\\framework\\dtypes.py:527: FutureWarning: Passing (type, 1) or '1type' as a synonym of type is deprecated; in a future version of numpy, it will be understood as (type, (1,)) / '(1,)type'.\n",
      "  _np_quint8 = np.dtype([(\"quint8\", np.uint8, 1)])\n",
      "C:\\ProgramData\\Anaconda3\\lib\\site-packages\\tensorflow\\python\\framework\\dtypes.py:528: FutureWarning: Passing (type, 1) or '1type' as a synonym of type is deprecated; in a future version of numpy, it will be understood as (type, (1,)) / '(1,)type'.\n",
      "  _np_qint16 = np.dtype([(\"qint16\", np.int16, 1)])\n",
      "C:\\ProgramData\\Anaconda3\\lib\\site-packages\\tensorflow\\python\\framework\\dtypes.py:529: FutureWarning: Passing (type, 1) or '1type' as a synonym of type is deprecated; in a future version of numpy, it will be understood as (type, (1,)) / '(1,)type'.\n",
      "  _np_quint16 = np.dtype([(\"quint16\", np.uint16, 1)])\n",
      "C:\\ProgramData\\Anaconda3\\lib\\site-packages\\tensorflow\\python\\framework\\dtypes.py:530: FutureWarning: Passing (type, 1) or '1type' as a synonym of type is deprecated; in a future version of numpy, it will be understood as (type, (1,)) / '(1,)type'.\n",
      "  _np_qint32 = np.dtype([(\"qint32\", np.int32, 1)])\n",
      "C:\\ProgramData\\Anaconda3\\lib\\site-packages\\tensorflow\\python\\framework\\dtypes.py:535: FutureWarning: Passing (type, 1) or '1type' as a synonym of type is deprecated; in a future version of numpy, it will be understood as (type, (1,)) / '(1,)type'.\n",
      "  np_resource = np.dtype([(\"resource\", np.ubyte, 1)])\n"
     ]
    },
    {
     "name": "stdout",
     "output_type": "stream",
     "text": [
      "length of oversampled data is  132716\n",
      "Number of no delinquency in oversampled data 66358\n",
      "Number of delinquency 66358\n",
      "Proportion of no delinquency data in oversampled data is  0.5\n",
      "Proportion of delinquency data in oversampled data is  0.5\n"
     ]
    }
   ],
   "source": [
    "from imblearn.over_sampling import SMOTE\n",
    "os = SMOTE(random_state=0)\n",
    "X_train, X_test, y_train, y_test = train_test_split(X, y, test_size=0.3, random_state=0)\n",
    "columns1 = X_train.columns\n",
    "\n",
    "os_data_X,os_data_y=os.fit_sample(X_train, y_train)\n",
    "os_data_X = pd.DataFrame(data=os_data_X,columns=columns1)\n",
    "os_data_y= pd.DataFrame(data=os_data_y,columns=['Delinquency'])\n",
    "\n",
    "# we can Check the numbers of our data\n",
    "print(\"length of oversampled data is \",len(os_data_X))\n",
    "print(\"Number of no delinquency in oversampled data\",len(os_data_y[os_data_y['Delinquency']==0]))\n",
    "print(\"Number of delinquency\",len(os_data_y[os_data_y['Delinquency']==1]))\n",
    "print(\"Proportion of no delinquency data in oversampled data is \",len(os_data_y[os_data_y['Delinquency']==0])/len(os_data_X))\n",
    "print(\"Proportion of delinquency data in oversampled data is \",len(os_data_y[os_data_y['Delinquency']==1])/len(os_data_X))"
   ]
  },
  {
   "cell_type": "markdown",
   "metadata": {},
   "source": [
    "### Recursive Feature Elimination"
   ]
  },
  {
   "cell_type": "code",
   "execution_count": 14,
   "metadata": {},
   "outputs": [
    {
     "name": "stdout",
     "output_type": "stream",
     "text": [
      "[ True  True  True  True  True  True  True  True  True  True]\n",
      "[1 1 1 1 1 1 1 1 1 1]\n"
     ]
    },
    {
     "name": "stderr",
     "output_type": "stream",
     "text": [
      "C:\\ProgramData\\Anaconda3\\lib\\site-packages\\sklearn\\linear_model\\_logistic.py:940: ConvergenceWarning: lbfgs failed to converge (status=1):\n",
      "STOP: TOTAL NO. of ITERATIONS REACHED LIMIT.\n",
      "\n",
      "Increase the number of iterations (max_iter) or scale the data as shown in:\n",
      "    https://scikit-learn.org/stable/modules/preprocessing.html\n",
      "Please also refer to the documentation for alternative solver options:\n",
      "    https://scikit-learn.org/stable/modules/linear_model.html#logistic-regression\n",
      "  extra_warning_msg=_LOGISTIC_SOLVER_CONVERGENCE_MSG)\n"
     ]
    }
   ],
   "source": [
    "from sklearn.feature_selection import RFE\n",
    "from sklearn.linear_model import LogisticRegression\n",
    "logreg = LogisticRegression()\n",
    "\n",
    "rfe = RFE(logreg, 20)\n",
    "rfe = rfe.fit(os_data_X, os_data_y.values.ravel())\n",
    "print(rfe.support_)\n",
    "print(rfe.ranking_)"
   ]
  },
  {
   "cell_type": "code",
   "execution_count": 15,
   "metadata": {},
   "outputs": [
    {
     "data": {
      "text/html": [
       "<div>\n",
       "<style scoped>\n",
       "    .dataframe tbody tr th:only-of-type {\n",
       "        vertical-align: middle;\n",
       "    }\n",
       "\n",
       "    .dataframe tbody tr th {\n",
       "        vertical-align: top;\n",
       "    }\n",
       "\n",
       "    .dataframe thead th {\n",
       "        text-align: right;\n",
       "    }\n",
       "</style>\n",
       "<table border=\"1\" class=\"dataframe\">\n",
       "  <thead>\n",
       "    <tr style=\"text-align: right;\">\n",
       "      <th></th>\n",
       "      <th>Feature</th>\n",
       "      <th>Importance</th>\n",
       "    </tr>\n",
       "  </thead>\n",
       "  <tbody>\n",
       "    <tr>\n",
       "      <th>0</th>\n",
       "      <td>RUOUL</td>\n",
       "      <td>1</td>\n",
       "    </tr>\n",
       "    <tr>\n",
       "      <th>1</th>\n",
       "      <td>Age</td>\n",
       "      <td>1</td>\n",
       "    </tr>\n",
       "    <tr>\n",
       "      <th>2</th>\n",
       "      <td>NOT30-59DPDNW</td>\n",
       "      <td>1</td>\n",
       "    </tr>\n",
       "    <tr>\n",
       "      <th>3</th>\n",
       "      <td>DebtRatio</td>\n",
       "      <td>1</td>\n",
       "    </tr>\n",
       "    <tr>\n",
       "      <th>4</th>\n",
       "      <td>MonthlyIncome</td>\n",
       "      <td>1</td>\n",
       "    </tr>\n",
       "    <tr>\n",
       "      <th>5</th>\n",
       "      <td>LoansNumber</td>\n",
       "      <td>1</td>\n",
       "    </tr>\n",
       "    <tr>\n",
       "      <th>6</th>\n",
       "      <td>NOT90DL</td>\n",
       "      <td>1</td>\n",
       "    </tr>\n",
       "    <tr>\n",
       "      <th>7</th>\n",
       "      <td>NRELOL</td>\n",
       "      <td>1</td>\n",
       "    </tr>\n",
       "    <tr>\n",
       "      <th>8</th>\n",
       "      <td>NOT60-89DPDNW</td>\n",
       "      <td>1</td>\n",
       "    </tr>\n",
       "    <tr>\n",
       "      <th>9</th>\n",
       "      <td>DependentsNumber</td>\n",
       "      <td>1</td>\n",
       "    </tr>\n",
       "  </tbody>\n",
       "</table>\n",
       "</div>"
      ],
      "text/plain": [
       "            Feature  Importance\n",
       "0             RUOUL           1\n",
       "1               Age           1\n",
       "2     NOT30-59DPDNW           1\n",
       "3         DebtRatio           1\n",
       "4     MonthlyIncome           1\n",
       "5       LoansNumber           1\n",
       "6           NOT90DL           1\n",
       "7            NRELOL           1\n",
       "8     NOT60-89DPDNW           1\n",
       "9  DependentsNumber           1"
      ]
     },
     "execution_count": 15,
     "metadata": {},
     "output_type": "execute_result"
    }
   ],
   "source": [
    "sf_X2 = pd.DataFrame({\n",
    "    'Feature': os_data_X.columns,\n",
    "    'Importance': rfe.ranking_},)\n",
    "sf_X2.sort_values(by=['Importance'])"
   ]
  },
  {
   "cell_type": "code",
   "execution_count": 16,
   "metadata": {},
   "outputs": [
    {
     "name": "stdout",
     "output_type": "stream",
     "text": [
      "['RUOUL', 'Age', 'NOT30-59DPDNW', 'DebtRatio', 'MonthlyIncome', 'LoansNumber', 'NOT90DL', 'NRELOL', 'NOT60-89DPDNW', 'DependentsNumber']\n",
      "10\n"
     ]
    }
   ],
   "source": [
    "cols=[]\n",
    "for i in range (0, len(sf_X2[\"Importance\"])):\n",
    "    if sf_X2[\"Importance\"][i] == 1:\n",
    "        cols.append(sf_X2[\"Feature\"][i])\n",
    "print(cols)\n",
    "print(len(cols))"
   ]
  },
  {
   "cell_type": "markdown",
   "metadata": {},
   "source": [
    "The Recursive Feature Elimination (RFE) has helped us select the following features: 'RUOUL', 'Age', 'NOT30-59DPDNW', 'DebtRatio', 'MonthlyIncome', 'LoansNumber', 'NOT90DL', 'NRELOL', 'NOT60-89DPDNW', 'DependentsNumber'"
   ]
  },
  {
   "cell_type": "code",
   "execution_count": 17,
   "metadata": {},
   "outputs": [],
   "source": [
    "X=os_data_X[cols]\n",
    "y=os_data_y['Delinquency']"
   ]
  },
  {
   "cell_type": "markdown",
   "metadata": {},
   "source": [
    "### Implementing the model"
   ]
  },
  {
   "cell_type": "code",
   "execution_count": 18,
   "metadata": {},
   "outputs": [
    {
     "name": "stdout",
     "output_type": "stream",
     "text": [
      "Optimization terminated successfully.\n",
      "         Current function value: 0.640486\n",
      "         Iterations 9\n",
      "                          Results: Logit\n",
      "==================================================================\n",
      "Model:              Logit            Pseudo R-squared: 0.076      \n",
      "Dependent Variable: Delinquency      AIC:              170025.4228\n",
      "Date:               2020-05-29 17:02 BIC:              170123.3824\n",
      "No. Observations:   132716           Log-Likelihood:   -85003.    \n",
      "Df Model:           9                LL-Null:          -91992.    \n",
      "Df Residuals:       132706           LLR p-value:      0.0000     \n",
      "Converged:          1.0000           Scale:            1.0000     \n",
      "No. Iterations:     9.0000                                        \n",
      "------------------------------------------------------------------\n",
      "                   Coef.  Std.Err.    z     P>|z|   [0.025  0.975]\n",
      "------------------------------------------------------------------\n",
      "RUOUL             -0.0001   0.0000  -2.2322 0.0256 -0.0002 -0.0000\n",
      "Age               -0.0093   0.0002 -39.7421 0.0000 -0.0097 -0.0088\n",
      "NOT30-59DPDNW      0.4725   0.0080  58.9566 0.0000  0.4568  0.4882\n",
      "DebtRatio          0.0000   0.0000   8.3161 0.0000  0.0000  0.0001\n",
      "MonthlyIncome     -0.0000   0.0000  -1.1785 0.2386 -0.0000  0.0000\n",
      "LoansNumber        0.0103   0.0013   7.6587 0.0000  0.0076  0.0129\n",
      "NOT90DL            0.4487   0.0105  42.8106 0.0000  0.4282  0.4693\n",
      "NRELOL            -0.2068   0.0064 -32.1623 0.0000 -0.2194 -0.1942\n",
      "NOT60-89DPDNW     -0.6839   0.0163 -41.9873 0.0000 -0.7158 -0.6519\n",
      "DependentsNumber   0.2617   0.0054  48.4242 0.0000  0.2511  0.2723\n",
      "==================================================================\n",
      "\n"
     ]
    }
   ],
   "source": [
    "import statsmodels.api as sm\n",
    "\n",
    "logit_model=sm.Logit(y,X)\n",
    "result=logit_model.fit()\n",
    "print(result.summary2())"
   ]
  },
  {
   "cell_type": "markdown",
   "metadata": {},
   "source": [
    "### Random Forest Classifier Model Fitting"
   ]
  },
  {
   "cell_type": "code",
   "execution_count": 19,
   "metadata": {},
   "outputs": [
    {
     "data": {
      "text/plain": [
       "RandomForestClassifier(bootstrap=True, ccp_alpha=0.0, class_weight=None,\n",
       "                       criterion='gini', max_depth=None, max_features='auto',\n",
       "                       max_leaf_nodes=None, max_samples=None,\n",
       "                       min_impurity_decrease=0.0, min_impurity_split=None,\n",
       "                       min_samples_leaf=1, min_samples_split=2,\n",
       "                       min_weight_fraction_leaf=0.0, n_estimators=100,\n",
       "                       n_jobs=None, oob_score=False, random_state=None,\n",
       "                       verbose=0, warm_start=False)"
      ]
     },
     "execution_count": 19,
     "metadata": {},
     "output_type": "execute_result"
    }
   ],
   "source": [
    "X_train, X_test, y_train, y_test = train_test_split(X, y, test_size=0.3, random_state=0)\n",
    "from sklearn.ensemble import RandomForestClassifier\n",
    "from sklearn import metrics\n",
    "rf = RandomForestClassifier()\n",
    "rf.fit(X_train, y_train)"
   ]
  },
  {
   "cell_type": "markdown",
   "metadata": {},
   "source": [
    "### Predicting the test set results and caculating the accuracy"
   ]
  },
  {
   "cell_type": "code",
   "execution_count": 20,
   "metadata": {},
   "outputs": [],
   "source": [
    "y_pred = rf.predict(X_test)"
   ]
  },
  {
   "cell_type": "code",
   "execution_count": 21,
   "metadata": {},
   "outputs": [
    {
     "name": "stdout",
     "output_type": "stream",
     "text": [
      "Accuracy of random forest classifier on test set: 0.92\n"
     ]
    }
   ],
   "source": [
    "print('Accuracy of random forest classifier on test set: {:.2f}'.format(rf.score(X_test, y_test)))"
   ]
  },
  {
   "cell_type": "markdown",
   "metadata": {},
   "source": [
    "### Compute precision, recall, F-measure and support\n",
    "\n",
    "The precision is the ratio tp / (tp + fp) where tp is the number of true positives and fp the number of false positives. The precision is intuitively the ability of the classifier not to label as positive a sample that is negative.\n",
    "\n",
    "The recall is the ratio tp / (tp + fn) where tp is the number of true positives and fn the number of false negatives. The recall is intuitively the ability of the classifier to find all the positive samples.\n",
    "\n",
    "The F-beta score can be interpreted as a weighted harmonic mean of the precision and recall, where an F-beta score reaches its best value at 1 and worst score at 0.\n",
    "\n",
    "The F-beta score weights recall more than precision by a factor of beta. beta == 1.0 means recall and precision are equally important.\n",
    "\n",
    "The support is the number of occurrences of each class in y_test."
   ]
  },
  {
   "cell_type": "code",
   "execution_count": 22,
   "metadata": {},
   "outputs": [
    {
     "name": "stdout",
     "output_type": "stream",
     "text": [
      "              precision    recall  f1-score   support\n",
      "\n",
      "           0       0.91      0.92      0.92     19798\n",
      "           1       0.92      0.91      0.92     20017\n",
      "\n",
      "    accuracy                           0.92     39815\n",
      "   macro avg       0.92      0.92      0.92     39815\n",
      "weighted avg       0.92      0.92      0.92     39815\n",
      "\n"
     ]
    }
   ],
   "source": [
    "from sklearn.metrics import classification_report\n",
    "print(classification_report(y_test, y_pred))"
   ]
  },
  {
   "cell_type": "code",
   "execution_count": 23,
   "metadata": {},
   "outputs": [
    {
     "name": "stdout",
     "output_type": "stream",
     "text": [
      "Accuracy of random forest classifier model: 91.62%\n",
      "Well, we got a classification rate of 91.62%\n",
      "\n",
      "Precision of random forest classifier model: 91.96%\n",
      "Precision: Precision is about being precise, i.e., how precise your model is. In other words, we can\n",
      " say, when a model makes a prediction, how often it is correct. In our prediction case, when our\n",
      " random forest classifier model predicted an applicant is going to accept a credit card, that\n",
      " applicant actually accepted 91.96% of the time.\n",
      "\n",
      "Recall of random forest classifier model: 91.30%\n",
      "Recall: If there is an applicant who accepted a credit card present in the test set and our random\n",
      " forest classifier model can identify it 91.30% of the time.\n"
     ]
    }
   ],
   "source": [
    " #calculate Accuracy, how often is the classifier correct?\n",
    "print(\"Accuracy of random forest classifier model:\", \"{:.2%}\".format(metrics.accuracy_score(y_test, y_pred)))\n",
    "print(\"Well, we got a classification rate of\", \"{:.2%}\".format(metrics.accuracy_score(y_test, y_pred)))\n",
    "#calculate Precision\n",
    "print(\"\\nPrecision of random forest classifier model:\", \"{:.2%}\".format(metrics.precision_score(y_test, y_pred)))\n",
    "print(\"Precision: Precision is about being precise, i.e., how precise your model is. In other words, we can\\n say, when a model makes a prediction, how often it is correct. In our prediction case, when our\\n random forest classifier model predicted an applicant is going to accept a credit card, that\\n applicant actually accepted\", \"{:.2%}\".format(metrics.precision_score(y_test, y_pred)) ,\"of the time.\")\n",
    "#calculate Recall\n",
    "print(\"\\nRecall of random forest classifier model:\", \"{:.2%}\".format(metrics.recall_score(y_test, y_pred)))\n",
    "print(\"Recall: If there is an applicant who accepted a credit card present in the test set and our random\\n forest classifier model can identify it\", \"{:.2%}\".format(metrics.recall_score(y_test, y_pred)) ,\"of the time.\")"
   ]
  },
  {
   "cell_type": "markdown",
   "metadata": {},
   "source": [
    "### Confusion Matrix"
   ]
  },
  {
   "cell_type": "code",
   "execution_count": 24,
   "metadata": {},
   "outputs": [
    {
     "name": "stdout",
     "output_type": "stream",
     "text": [
      "[[18201  1597]\n",
      " [ 1741 18276]]\n"
     ]
    }
   ],
   "source": [
    "from sklearn.metrics import confusion_matrix\n",
    "confusion_matrix = confusion_matrix(y_test, y_pred)\n",
    "print(confusion_matrix)"
   ]
  },
  {
   "cell_type": "code",
   "execution_count": 25,
   "metadata": {},
   "outputs": [
    {
     "name": "stdout",
     "output_type": "stream",
     "text": [
      "The result is telling us that we have:  36477 correct predictions.\n",
      "The result is telling us that we have:  3338 incorrect predictions.\n",
      "We have a total predictions of:  39815\n"
     ]
    }
   ],
   "source": [
    "print(\"The result is telling us that we have: \",(confusion_matrix[0,0]+confusion_matrix[1,1]),\"correct predictions.\")\n",
    "print(\"The result is telling us that we have: \",(confusion_matrix[0,1]+confusion_matrix[1,0]),\"incorrect predictions.\")\n",
    "print(\"We have a total predictions of: \",(confusion_matrix.sum()))"
   ]
  },
  {
   "cell_type": "markdown",
   "metadata": {},
   "source": [
    "### ROC Curves"
   ]
  },
  {
   "cell_type": "code",
   "execution_count": 26,
   "metadata": {},
   "outputs": [
    {
     "data": {
      "image/png": "[encoded data removed]",
      "text/plain": [
       "<Figure size 432x288 with 1 Axes>"
      ]
     },
     "metadata": {},
     "output_type": "display_data"
    }
   ],
   "source": [
    "from sklearn.metrics import roc_auc_score\n",
    "from sklearn.metrics import roc_curve\n",
    "rf_roc_auc = roc_auc_score(y_test, rf.predict(X_test))\n",
    "fpr, tpr, thresholds = roc_curve(y_test, rf.predict_proba(X_test)[:,1])\n",
    "plt.figure()\n",
    "plt.plot(fpr, tpr, label='Logistic Regression (area = %0.2f)' % rf_roc_auc)\n",
    "plt.plot([0, 1], [0, 1],'r--')\n",
    "plt.xlim([0.0, 1.0])\n",
    "plt.ylim([0.0, 1.05])\n",
    "plt.xlabel('False Positive Rate')\n",
    "plt.ylabel('True Positive Rate')\n",
    "plt.title('Receiver operating characteristic')\n",
    "plt.legend(loc=\"lower right\")\n",
    "plt.savefig('Log_ROC')\n",
    "plt.show()"
   ]
  },
  {
   "cell_type": "markdown",
   "metadata": {},
   "source": [
    "# Real time Prediction"
   ]
  },
  {
   "cell_type": "code",
   "execution_count": 27,
   "metadata": {},
   "outputs": [
    {
     "data": {
      "text/html": [
       "<div>\n",
       "<style scoped>\n",
       "    .dataframe tbody tr th:only-of-type {\n",
       "        vertical-align: middle;\n",
       "    }\n",
       "\n",
       "    .dataframe tbody tr th {\n",
       "        vertical-align: top;\n",
       "    }\n",
       "\n",
       "    .dataframe thead th {\n",
       "        text-align: right;\n",
       "    }\n",
       "</style>\n",
       "<table border=\"1\" class=\"dataframe\">\n",
       "  <thead>\n",
       "    <tr style=\"text-align: right;\">\n",
       "      <th></th>\n",
       "      <th>Prob_to_Approval</th>\n",
       "    </tr>\n",
       "  </thead>\n",
       "  <tbody>\n",
       "    <tr>\n",
       "      <th>0</th>\n",
       "      <td>0.96</td>\n",
       "    </tr>\n",
       "    <tr>\n",
       "      <th>1</th>\n",
       "      <td>0.11</td>\n",
       "    </tr>\n",
       "    <tr>\n",
       "      <th>2</th>\n",
       "      <td>0.23</td>\n",
       "    </tr>\n",
       "    <tr>\n",
       "      <th>3</th>\n",
       "      <td>0.11</td>\n",
       "    </tr>\n",
       "    <tr>\n",
       "      <th>4</th>\n",
       "      <td>0.26</td>\n",
       "    </tr>\n",
       "    <tr>\n",
       "      <th>5</th>\n",
       "      <td>0.02</td>\n",
       "    </tr>\n",
       "    <tr>\n",
       "      <th>6</th>\n",
       "      <td>0.17</td>\n",
       "    </tr>\n",
       "    <tr>\n",
       "      <th>7</th>\n",
       "      <td>0.13</td>\n",
       "    </tr>\n",
       "    <tr>\n",
       "      <th>8</th>\n",
       "      <td>0.01</td>\n",
       "    </tr>\n",
       "    <tr>\n",
       "      <th>9</th>\n",
       "      <td>0.24</td>\n",
       "    </tr>\n",
       "  </tbody>\n",
       "</table>\n",
       "</div>"
      ],
      "text/plain": [
       "   Prob_to_Approval\n",
       "0              0.96\n",
       "1              0.11\n",
       "2              0.23\n",
       "3              0.11\n",
       "4              0.26\n",
       "5              0.02\n",
       "6              0.17\n",
       "7              0.13\n",
       "8              0.01\n",
       "9              0.24"
      ]
     },
     "execution_count": 27,
     "metadata": {},
     "output_type": "execute_result"
    }
   ],
   "source": [
    "data['Prob_to_Approval'] = rf.predict_proba(data[X_train.columns])[:,1]\n",
    "data[['Prob_to_Approval']].head(10)"
   ]
  },
  {
   "cell_type": "code",
   "execution_count": 28,
   "metadata": {},
   "outputs": [],
   "source": [
    "data.to_csv('Prob_to_Approval.csv', encoding='utf-8')"
   ]
  }
 ],
 "metadata": {
  "kernelspec": {
   "display_name": "Python 3",
   "language": "python",
   "name": "python3"
  },
  "language_info": {
   "codemirror_mode": {
    "name": "ipython",
    "version": 3
   },
   "file_extension": ".py",
   "mimetype": "text/x-python",
   "name": "python",
   "nbconvert_exporter": "python",
   "pygments_lexer": "ipython3",
   "version": "3.7.6"
  }
 },
 "nbformat": 4,
 "nbformat_minor": 2
}
